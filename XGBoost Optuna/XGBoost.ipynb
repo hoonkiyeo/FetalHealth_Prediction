{
 "cells": [
  {
   "cell_type": "code",
   "execution_count": 1,
   "metadata": {},
   "outputs": [],
   "source": [
    "from sklearn import model_selection\n",
    "from sklearn.model_selection import train_test_split\n",
    "from sklearn import datasets\n",
    "from xgboost import XGBClassifier\n",
    "from sklearn.model_selection import StratifiedKFold\n",
    "import numpy as np\n",
    "import optuna\n",
    "import pandas as pd\n",
    "import matplotlib.pyplot as plt\n",
    "%matplotlib inline"
   ]
  },
  {
   "cell_type": "markdown",
   "metadata": {},
   "source": [
    "### XGBoost Optuna before feature selection"
   ]
  },
  {
   "cell_type": "code",
   "execution_count": 2,
   "metadata": {},
   "outputs": [],
   "source": [
    "fetal = pd.read_csv(\"fetal_health.csv\")\n",
    "X = fetal.drop([\"fetal_health\",],axis=1).values\n",
    "y = fetal[\"fetal_health\"].values.ravel().astype(int) - 1"
   ]
  },
  {
   "cell_type": "code",
   "execution_count": 3,
   "metadata": {},
   "outputs": [],
   "source": [
    "X_train, X_test, y_train, y_test = train_test_split(X, y,\n",
    "                                                    test_size = 0.3,\n",
    "                                                    random_state=123,\n",
    "                                                    stratify=y)\n",
    "\n",
    "X_train_sub, X_valid, y_train_sub, y_valid = \\\n",
    "    train_test_split(X_train, y_train, test_size=0.2, random_state=123, stratify=y_train)"
   ]
  },
  {
   "cell_type": "code",
   "execution_count": 4,
   "metadata": {},
   "outputs": [
    {
     "name": "stdout",
     "output_type": "stream",
     "text": [
      "Train/Valid/Test sizes: 1488 298 638\n"
     ]
    }
   ],
   "source": [
    "print('Train/Valid/Test sizes:', y_train.shape[0], y_valid.shape[0], y_test.shape[0])"
   ]
  },
  {
   "cell_type": "markdown",
   "metadata": {},
   "source": [
    "### Optuna"
   ]
  },
  {
   "cell_type": "code",
   "execution_count": 5,
   "metadata": {},
   "outputs": [],
   "source": [
    "from xgboost import XGBClassifier\n",
    "from sklearn.model_selection import StratifiedKFold\n",
    "import numpy as np\n",
    "import optuna\n",
    "\n",
    "\n",
    "def optimization_objective(trial, X_train, y_train, cv=5):\n",
    "\n",
    "    \n",
    "    params =  {\n",
    "            \"n_estimators\": trial.suggest_categorical(\"n_estimators\", [30, 50, 100, 300, 500, 1000]),\n",
    "            \"learning_rate\": trial.suggest_categorical(\"learning_rate\", [0.01, 0.03, 0.05, 0.1]),\n",
    "            \"lambda\": trial.suggest_loguniform(\"lambda\", 1e-8, 1.0),\n",
    "            \"alpha\": trial.suggest_loguniform(\"alpha\", 1e-8, 1.0),\n",
    "    }\n",
    "    \n",
    "\n",
    "    cv_iterator = StratifiedKFold(n_splits=cv, shuffle=True, random_state=123)\n",
    "\n",
    "    cv_scores = np.zeros(cv)\n",
    "    for idx, (train_sub_idx, valid_idx) in enumerate(cv_iterator.split(X_train, y_train)):\n",
    "        \n",
    "        X_train_sub, X_valid = X_train[train_sub_idx], X_train[valid_idx]\n",
    "        y_train_sub, y_valid = y_train[train_sub_idx], y_train[valid_idx]\n",
    "        \n",
    "\n",
    "        model = XGBClassifier(**params, random_state=123, use_label_encoder=False)\n",
    "        \n",
    "        model.fit(\n",
    "            X_train_sub,\n",
    "            y_train_sub,\n",
    "            verbose=False,\n",
    "            eval_set=[(X_valid, y_valid)],\n",
    "            eval_metric=\"auc\",\n",
    "            early_stopping_rounds=100,\n",
    "        )\n",
    "        \n",
    "        preds = model.score(X_valid, y_valid)\n",
    "        \n",
    "        cv_scores[idx] = preds\n",
    "\n",
    "    return np.mean(cv_scores)"
   ]
  },
  {
   "cell_type": "code",
   "execution_count": 6,
   "metadata": {},
   "outputs": [
    {
     "name": "stderr",
     "output_type": "stream",
     "text": [
      "\u001b[32m[I 2021-11-22 17:05:43,998]\u001b[0m A new study created in memory with name: XGBoost Classifier\u001b[0m\n",
      "\u001b[32m[I 2021-11-22 17:05:49,562]\u001b[0m Trial 0 finished with value: 0.9502700381895013 and parameters: {'n_estimators': 300, 'learning_rate': 0.1, 'lambda': 0.0001745940048408795, 'alpha': 3.9024115746719044e-07}. Best is trial 0 with value: 0.9502700381895013.\u001b[0m\n",
      "\u001b[32m[I 2021-11-22 17:06:04,391]\u001b[0m Trial 1 finished with value: 0.9435563690597247 and parameters: {'n_estimators': 500, 'learning_rate': 0.01, 'lambda': 0.0029118783881449013, 'alpha': 1.2572574316585578e-06}. Best is trial 0 with value: 0.9502700381895013.\u001b[0m\n",
      "\u001b[32m[I 2021-11-22 17:06:18,424]\u001b[0m Trial 2 finished with value: 0.9415429462409328 and parameters: {'n_estimators': 500, 'learning_rate': 0.01, 'lambda': 0.27441764556226145, 'alpha': 0.0003217536937106555}. Best is trial 0 with value: 0.9502700381895013.\u001b[0m\n",
      "\u001b[32m[I 2021-11-22 17:06:20,458]\u001b[0m Trial 3 finished with value: 0.9159966555939709 and parameters: {'n_estimators': 50, 'learning_rate': 0.01, 'lambda': 0.0005360241829550563, 'alpha': 2.6379991726294466e-06}. Best is trial 0 with value: 0.9502700381895013.\u001b[0m\n",
      "\u001b[32m[I 2021-11-22 17:06:23,973]\u001b[0m Trial 4 finished with value: 0.943558628793528 and parameters: {'n_estimators': 100, 'learning_rate': 0.05, 'lambda': 0.006474412230557133, 'alpha': 2.133843048405833e-08}. Best is trial 0 with value: 0.9502700381895013.\u001b[0m\n",
      "\u001b[32m[I 2021-11-22 17:06:27,511]\u001b[0m Trial 5 finished with value: 0.943558628793528 and parameters: {'n_estimators': 100, 'learning_rate': 0.05, 'lambda': 0.0001828098973679457, 'alpha': 0.00045414166535433714}. Best is trial 0 with value: 0.9502700381895013.\u001b[0m\n",
      "\u001b[32m[I 2021-11-22 17:06:38,916]\u001b[0m Trial 6 finished with value: 0.9482566153707094 and parameters: {'n_estimators': 500, 'learning_rate': 0.03, 'lambda': 0.10696337174369569, 'alpha': 1.0732723193381208e-05}. Best is trial 0 with value: 0.9502700381895013.\u001b[0m\n",
      "\u001b[32m[I 2021-11-22 17:06:40,224]\u001b[0m Trial 7 finished with value: 0.9280997898447563 and parameters: {'n_estimators': 30, 'learning_rate': 0.05, 'lambda': 0.022165552700283926, 'alpha': 2.6018423469747404e-08}. Best is trial 0 with value: 0.9502700381895013.\u001b[0m\n",
      "\u001b[32m[I 2021-11-22 17:06:50,165]\u001b[0m Trial 8 finished with value: 0.9428874878539307 and parameters: {'n_estimators': 300, 'learning_rate': 0.01, 'lambda': 0.00021282476478557582, 'alpha': 0.04869944989273704}. Best is trial 0 with value: 0.9502700381895013.\u001b[0m\n",
      "\u001b[32m[I 2021-11-22 17:06:51,927]\u001b[0m Trial 9 finished with value: 0.9375093214019389 and parameters: {'n_estimators': 50, 'learning_rate': 0.05, 'lambda': 0.251208646782461, 'alpha': 3.4874904144740297e-07}. Best is trial 0 with value: 0.9502700381895013.\u001b[0m\n",
      "\u001b[32m[I 2021-11-22 17:06:57,555]\u001b[0m Trial 10 finished with value: 0.946909814023908 and parameters: {'n_estimators': 1000, 'learning_rate': 0.1, 'lambda': 7.223456604164581e-07, 'alpha': 0.20204764296454852}. Best is trial 0 with value: 0.9502700381895013.\u001b[0m\n",
      "\u001b[32m[I 2021-11-22 17:07:06,713]\u001b[0m Trial 11 finished with value: 0.9462454522857208 and parameters: {'n_estimators': 300, 'learning_rate': 0.03, 'lambda': 1.5242979778135842e-06, 'alpha': 1.2826325150364856e-05}. Best is trial 0 with value: 0.9502700381895013.\u001b[0m\n",
      "\u001b[32m[I 2021-11-22 17:07:12,149]\u001b[0m Trial 12 finished with value: 0.9509411791290987 and parameters: {'n_estimators': 500, 'learning_rate': 0.1, 'lambda': 7.513002087210608e-06, 'alpha': 3.834307168733939e-05}. Best is trial 12 with value: 0.9509411791290987.\u001b[0m\n",
      "\u001b[32m[I 2021-11-22 17:07:17,360]\u001b[0m Trial 13 finished with value: 0.9502700381895013 and parameters: {'n_estimators': 300, 'learning_rate': 0.1, 'lambda': 3.884420666661193e-08, 'alpha': 0.002875182742530493}. Best is trial 12 with value: 0.9509411791290987.\u001b[0m\n",
      "\u001b[32m[I 2021-11-22 17:07:23,092]\u001b[0m Trial 14 finished with value: 0.9482543556369059 and parameters: {'n_estimators': 1000, 'learning_rate': 0.1, 'lambda': 6.647775368547503e-06, 'alpha': 2.6630219938726747e-07}. Best is trial 12 with value: 0.9509411791290987.\u001b[0m\n",
      "\u001b[32m[I 2021-11-22 17:07:24,537]\u001b[0m Trial 15 finished with value: 0.9395204844869275 and parameters: {'n_estimators': 30, 'learning_rate': 0.1, 'lambda': 1.2874815232004046e-05, 'alpha': 2.9617947133456494e-05}. Best is trial 12 with value: 0.9509411791290987.\u001b[0m\n",
      "\u001b[32m[I 2021-11-22 17:07:29,704]\u001b[0m Trial 16 finished with value: 0.9502700381895013 and parameters: {'n_estimators': 500, 'learning_rate': 0.1, 'lambda': 2.4356061372566777e-05, 'alpha': 0.004707639413033541}. Best is trial 12 with value: 0.9509411791290987.\u001b[0m\n",
      "\u001b[32m[I 2021-11-22 17:07:35,012]\u001b[0m Trial 17 finished with value: 0.947578695229702 and parameters: {'n_estimators': 300, 'learning_rate': 0.1, 'lambda': 6.875041569407587e-08, 'alpha': 1.5556119936621065e-07}. Best is trial 12 with value: 0.9509411791290987.\u001b[0m\n",
      "\u001b[32m[I 2021-11-22 17:07:40,746]\u001b[0m Trial 18 finished with value: 0.9509411791290987 and parameters: {'n_estimators': 500, 'learning_rate': 0.1, 'lambda': 5.259569929444672e-07, 'alpha': 4.126927717081866e-05}. Best is trial 12 with value: 0.9509411791290987.\u001b[0m\n",
      "\u001b[32m[I 2021-11-22 17:07:46,201]\u001b[0m Trial 19 finished with value: 0.9489254965765032 and parameters: {'n_estimators': 500, 'learning_rate': 0.1, 'lambda': 3.8394826934194e-07, 'alpha': 9.461296499494587e-05}. Best is trial 12 with value: 0.9509411791290987.\u001b[0m\n",
      "\u001b[32m[I 2021-11-22 17:07:56,599]\u001b[0m Trial 20 finished with value: 0.9482566153707094 and parameters: {'n_estimators': 500, 'learning_rate': 0.03, 'lambda': 1.7857477693392765e-07, 'alpha': 0.00466414583013881}. Best is trial 12 with value: 0.9509411791290987.\u001b[0m\n",
      "\u001b[32m[I 2021-11-22 17:08:02,119]\u001b[0m Trial 21 finished with value: 0.9475832146973087 and parameters: {'n_estimators': 500, 'learning_rate': 0.1, 'lambda': 1.1553459894874043e-08, 'alpha': 2.0450272594484275e-06}. Best is trial 12 with value: 0.9509411791290987.\u001b[0m\n",
      "\u001b[32m[I 2021-11-22 17:08:08,210]\u001b[0m Trial 22 finished with value: 0.9489232368426999 and parameters: {'n_estimators': 300, 'learning_rate': 0.1, 'lambda': 2.7385327692792395e-06, 'alpha': 6.662625957684812e-05}. Best is trial 12 with value: 0.9509411791290987.\u001b[0m\n",
      "\u001b[32m[I 2021-11-22 17:08:15,204]\u001b[0m Trial 23 finished with value: 0.946909814023908 and parameters: {'n_estimators': 500, 'learning_rate': 0.1, 'lambda': 3.7304469228247925e-05, 'alpha': 0.0005717606467292422}. Best is trial 12 with value: 0.9509411791290987.\u001b[0m\n",
      "\u001b[32m[I 2021-11-22 17:08:22,207]\u001b[0m Trial 24 finished with value: 0.9475832146973087 and parameters: {'n_estimators': 1000, 'learning_rate': 0.1, 'lambda': 0.0009333229758420173, 'alpha': 6.9658085615689346e-06}. Best is trial 12 with value: 0.9509411791290987.\u001b[0m\n",
      "\u001b[32m[I 2021-11-22 17:08:29,579]\u001b[0m Trial 25 finished with value: 0.9522812012744899 and parameters: {'n_estimators': 500, 'learning_rate': 0.1, 'lambda': 2.028027809899421e-05, 'alpha': 0.005994322674790047}. Best is trial 25 with value: 0.9522812012744899.\u001b[0m\n",
      "\u001b[32m[I 2021-11-22 17:08:36,813]\u001b[0m Trial 26 finished with value: 0.9509411791290987 and parameters: {'n_estimators': 500, 'learning_rate': 0.1, 'lambda': 4.707164621986751e-06, 'alpha': 0.020314196430553027}. Best is trial 25 with value: 0.9522812012744899.\u001b[0m\n",
      "\u001b[32m[I 2021-11-22 17:08:44,649]\u001b[0m Trial 27 finished with value: 0.9489254965765033 and parameters: {'n_estimators': 500, 'learning_rate': 0.1, 'lambda': 1.522263321057317e-06, 'alpha': 0.033137824617497376}. Best is trial 25 with value: 0.9522812012744899.\u001b[0m\n",
      "\u001b[32m[I 2021-11-22 17:09:04,128]\u001b[0m Trial 28 finished with value: 0.9475877341649154 and parameters: {'n_estimators': 500, 'learning_rate': 0.03, 'lambda': 5.4911653849252265e-05, 'alpha': 0.7029975274880311}. Best is trial 25 with value: 0.9522812012744899.\u001b[0m\n",
      "\u001b[32m[I 2021-11-22 17:09:08,279]\u001b[0m Trial 29 finished with value: 0.9475832146973087 and parameters: {'n_estimators': 100, 'learning_rate': 0.1, 'lambda': 2.4694788939300004e-07, 'alpha': 0.030842724165344237}. Best is trial 25 with value: 0.9522812012744899.\u001b[0m\n",
      "\u001b[32m[I 2021-11-22 17:09:10,665]\u001b[0m Trial 30 finished with value: 0.9422118274467268 and parameters: {'n_estimators': 50, 'learning_rate': 0.1, 'lambda': 3.6029749122669294e-06, 'alpha': 0.0018900017646987994}. Best is trial 25 with value: 0.9522812012744899.\u001b[0m\n",
      "\u001b[32m[I 2021-11-22 17:09:17,116]\u001b[0m Trial 31 finished with value: 0.946909814023908 and parameters: {'n_estimators': 500, 'learning_rate': 0.1, 'lambda': 8.320207304558478e-06, 'alpha': 0.0002480244167738847}. Best is trial 25 with value: 0.9522812012744899.\u001b[0m\n",
      "\u001b[32m[I 2021-11-22 17:09:23,823]\u001b[0m Trial 32 finished with value: 0.950267778455698 and parameters: {'n_estimators': 500, 'learning_rate': 0.1, 'lambda': 1.3906386540450654e-05, 'alpha': 0.018756700006617773}. Best is trial 25 with value: 0.9522812012744899.\u001b[0m\n",
      "\u001b[32m[I 2021-11-22 17:09:30,831]\u001b[0m Trial 33 finished with value: 0.9482566153707094 and parameters: {'n_estimators': 500, 'learning_rate': 0.1, 'lambda': 8.909231634276495e-05, 'alpha': 0.10583065995139519}. Best is trial 25 with value: 0.9522812012744899.\u001b[0m\n",
      "\u001b[32m[I 2021-11-22 17:09:56,648]\u001b[0m Trial 34 finished with value: 0.9428852281201274 and parameters: {'n_estimators': 500, 'learning_rate': 0.01, 'lambda': 8.465682491001723e-07, 'alpha': 0.0011878399140972608}. Best is trial 25 with value: 0.9522812012744899.\u001b[0m\n",
      "\u001b[32m[I 2021-11-22 17:09:58,578]\u001b[0m Trial 35 finished with value: 0.9395272636883375 and parameters: {'n_estimators': 30, 'learning_rate': 0.1, 'lambda': 3.8322419414952465e-06, 'alpha': 0.01192280943134998}. Best is trial 25 with value: 0.9522812012744899.\u001b[0m\n",
      "\u001b[32m[I 2021-11-22 17:10:20,835]\u001b[0m Trial 36 finished with value: 0.943558628793528 and parameters: {'n_estimators': 500, 'learning_rate': 0.01, 'lambda': 0.00048322051723805764, 'alpha': 4.196809449955224e-05}. Best is trial 25 with value: 0.9522812012744899.\u001b[0m\n",
      "\u001b[32m[I 2021-11-22 17:10:31,672]\u001b[0m Trial 37 finished with value: 0.9475809549635054 and parameters: {'n_estimators': 500, 'learning_rate': 0.05, 'lambda': 1.39393442343262e-07, 'alpha': 0.00020492819352790036}. Best is trial 25 with value: 0.9522812012744899.\u001b[0m\n",
      "\u001b[32m[I 2021-11-22 17:10:35,820]\u001b[0m Trial 38 finished with value: 0.9462409328181141 and parameters: {'n_estimators': 100, 'learning_rate': 0.1, 'lambda': 0.004245196526553288, 'alpha': 4.792854287228937e-06}. Best is trial 25 with value: 0.9522812012744899.\u001b[0m\n",
      "\u001b[32m[I 2021-11-22 17:10:38,200]\u001b[0m Trial 39 finished with value: 0.9146521139809731 and parameters: {'n_estimators': 50, 'learning_rate': 0.01, 'lambda': 2.363857886191827e-05, 'alpha': 0.0008633499866421859}. Best is trial 25 with value: 0.9522812012744899.\u001b[0m\n",
      "\u001b[32m[I 2021-11-22 17:10:50,792]\u001b[0m Trial 40 finished with value: 0.9502722979233045 and parameters: {'n_estimators': 500, 'learning_rate': 0.05, 'lambda': 5.133701174143886e-07, 'alpha': 1.764939624534115e-05}. Best is trial 25 with value: 0.9522812012744899.\u001b[0m\n",
      "\u001b[32m[I 2021-11-22 17:11:03,277]\u001b[0m Trial 41 finished with value: 0.9489254965765032 and parameters: {'n_estimators': 500, 'learning_rate': 0.05, 'lambda': 5.857122190094888e-07, 'alpha': 2.079509137224865e-05}. Best is trial 25 with value: 0.9522812012744899.\u001b[0m\n",
      "\u001b[32m[I 2021-11-22 17:11:13,954]\u001b[0m Trial 42 finished with value: 0.9455675321447133 and parameters: {'n_estimators': 500, 'learning_rate': 0.05, 'lambda': 1.4912100174087798e-06, 'alpha': 6.840286020760694e-07}. Best is trial 25 with value: 0.9522812012744899.\u001b[0m\n",
      "\u001b[32m[I 2021-11-22 17:11:25,219]\u001b[0m Trial 43 finished with value: 0.9448986509389193 and parameters: {'n_estimators': 500, 'learning_rate': 0.05, 'lambda': 8.128074131735062e-08, 'alpha': 0.00011413763588739685}. Best is trial 25 with value: 0.9522812012744899.\u001b[0m\n",
      "\u001b[32m[I 2021-11-22 17:11:36,495]\u001b[0m Trial 44 finished with value: 0.9469120737577115 and parameters: {'n_estimators': 500, 'learning_rate': 0.05, 'lambda': 0.00011377412463546743, 'alpha': 4.27543295790878e-06}. Best is trial 25 with value: 0.9522812012744899.\u001b[0m\n",
      "\u001b[32m[I 2021-11-22 17:11:38,258]\u001b[0m Trial 45 finished with value: 0.920705940840169 and parameters: {'n_estimators': 30, 'learning_rate': 0.03, 'lambda': 3.369970849279289e-08, 'alpha': 1.5654867307988306e-05}. Best is trial 25 with value: 0.9522812012744899.\u001b[0m\n",
      "\u001b[32m[I 2021-11-22 17:11:50,436]\u001b[0m Trial 46 finished with value: 0.9482566153707094 and parameters: {'n_estimators': 500, 'learning_rate': 0.05, 'lambda': 5.436160313807246e-06, 'alpha': 0.3278006243492346}. Best is trial 25 with value: 0.9522812012744899.\u001b[0m\n",
      "\u001b[32m[I 2021-11-22 17:11:57,471]\u001b[0m Trial 47 finished with value: 0.946909814023908 and parameters: {'n_estimators': 1000, 'learning_rate': 0.1, 'lambda': 1.6461355491675955e-06, 'alpha': 0.006799266988727829}. Best is trial 25 with value: 0.9522812012744899.\u001b[0m\n",
      "\u001b[32m[I 2021-11-22 17:12:01,410]\u001b[0m Trial 48 finished with value: 0.9455697918785166 and parameters: {'n_estimators': 100, 'learning_rate': 0.1, 'lambda': 0.00030778222553743626, 'alpha': 1.239689084635081e-06}. Best is trial 25 with value: 0.9522812012744899.\u001b[0m\n",
      "\u001b[32m[I 2021-11-22 17:12:11,557]\u001b[0m Trial 49 finished with value: 0.9469120737577115 and parameters: {'n_estimators': 500, 'learning_rate': 0.05, 'lambda': 0.021794983691041925, 'alpha': 4.18317041742815e-05}. Best is trial 25 with value: 0.9522812012744899.\u001b[0m\n"
     ]
    },
    {
     "name": "stdout",
     "output_type": "stream",
     "text": [
      "Best CV accuracy: 0.95228\n",
      "Best params:\n",
      "\tn_estimators: 500\n",
      "\tlearning_rate: 0.1\n",
      "\tlambda: 2.028027809899421e-05\n",
      "\talpha: 0.005994322674790047\n"
     ]
    }
   ],
   "source": [
    "study = optuna.create_study(direction=\"maximize\", study_name=\"XGBoost Classifier\")\n",
    "\n",
    "def func(trial):\n",
    "    return optimization_objective(trial, X_train, y_train)\n",
    "\n",
    "study.optimize(func, n_trials=50);\n",
    "\n",
    "\n",
    "\n",
    "\n",
    "\n",
    "print(f\"Best CV accuracy: {study.best_value:.5f}\")\n",
    "print(\"Best params:\")\n",
    "for key, value in study.best_params.items():\n",
    "    print(f\"\\t{key}: {value}\")"
   ]
  },
  {
   "cell_type": "code",
   "execution_count": 8,
   "metadata": {},
   "outputs": [
    {
     "name": "stdout",
     "output_type": "stream",
     "text": [
      "Training Accuracy: 100.000%\n",
      "Test Accuracy: 95.298%\n"
     ]
    }
   ],
   "source": [
    "model = XGBClassifier(**study.best_params, random_state=123, use_label_encoder=False)\n",
    "model.fit(\n",
    "    X_train,\n",
    "    y_train,\n",
    "    verbose=False,\n",
    "    eval_set=[(X_test, y_test)],\n",
    "    eval_metric=\"auc\",\n",
    "    early_stopping_rounds=100,\n",
    ")\n",
    "\n",
    "\n",
    "\n",
    "print(f\"Training Accuracy: {model.score(X_train, y_train)*100:0.3f}%\")\n",
    "print(f\"Test Accuracy: {model.score(X_test, y_test)*100:0.3f}%\")"
   ]
  }
 ],
 "metadata": {
  "kernelspec": {
   "display_name": "Python 3",
   "language": "python",
   "name": "python3"
  },
  "language_info": {
   "codemirror_mode": {
    "name": "ipython",
    "version": 3
   },
   "file_extension": ".py",
   "mimetype": "text/x-python",
   "name": "python",
   "nbconvert_exporter": "python",
   "pygments_lexer": "ipython3",
   "version": "3.9.1"
  }
 },
 "nbformat": 4,
 "nbformat_minor": 4
}
