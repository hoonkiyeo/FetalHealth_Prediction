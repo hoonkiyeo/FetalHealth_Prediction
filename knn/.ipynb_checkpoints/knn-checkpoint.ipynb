{
 "cells": [
  {
   "cell_type": "code",
   "execution_count": 1,
   "metadata": {},
   "outputs": [],
   "source": [
    "import pandas as pd\n",
    "import matplotlib.pyplot as plt\n",
    "%matplotlib inline\n",
    "from sklearn.neighbors import KNeighborsClassifier\n",
    "from mlxtend.plotting import plot_decision_regions\n",
    "from sklearn.model_selection import train_test_split\n",
    "from sklearn import preprocessing\n",
    "from sklearn.preprocessing import StandardScaler\n",
    "import seaborn as sns"
   ]
  },
  {
   "cell_type": "markdown",
   "metadata": {},
   "source": [
    "### All Features"
   ]
  },
  {
   "cell_type": "code",
   "execution_count": 4,
   "metadata": {},
   "outputs": [],
   "source": [
    "fetal = pd.read_csv(\"fetal_health.csv\")\n",
    "X = fetal.drop([\"fetal_health\",],axis=1).values\n",
    "y = fetal[\"fetal_health\"].values.ravel().astype(int) - 1"
   ]
  },
  {
   "cell_type": "markdown",
   "metadata": {},
   "source": [
    "### KNN"
   ]
  },
  {
   "cell_type": "code",
   "execution_count": 11,
   "metadata": {},
   "outputs": [],
   "source": [
    "X_train, X_test, y_train, y_test = train_test_split(X, y,\n",
    "                                                    test_size = 0.2,\n",
    "                                                    random_state=123,\n",
    "                                                    stratify=y)"
   ]
  },
  {
   "cell_type": "code",
   "execution_count": 12,
   "metadata": {},
   "outputs": [
    {
     "name": "stdout",
     "output_type": "stream",
     "text": [
      "Train/Test sizes: 1700 426\n"
     ]
    }
   ],
   "source": [
    "print('Train/Test sizes:', y_train.shape[0], y_test.shape[0])"
   ]
  },
  {
   "cell_type": "code",
   "execution_count": 14,
   "metadata": {},
   "outputs": [
    {
     "name": "stdout",
     "output_type": "stream",
     "text": [
      "k = 1 Accuracy percentage in training subset: 100.0 %\n",
      "k = 1 Accuracy percentage in test subset: 90.61032863849765 %\n",
      "\n",
      "\n",
      "k = 2 Accuracy percentage in training subset: 93.94117647058823 %\n",
      "k = 2 Accuracy percentage in test subset: 88.73239436619718 %\n",
      "\n",
      "\n",
      "k = 3 Accuracy percentage in training subset: 93.35294117647058 %\n",
      "k = 3 Accuracy percentage in test subset: 89.90610328638498 %\n",
      "\n",
      "\n",
      "k = 4 Accuracy percentage in training subset: 92.0 %\n",
      "k = 4 Accuracy percentage in test subset: 88.49765258215963 %\n",
      "\n",
      "\n",
      "k = 5 Accuracy percentage in training subset: 91.88235294117646 %\n",
      "k = 5 Accuracy percentage in test subset: 88.49765258215963 %\n",
      "\n",
      "\n",
      "k = 6 Accuracy percentage in training subset: 91.17647058823529 %\n",
      "k = 6 Accuracy percentage in test subset: 87.79342723004694 %\n",
      "\n",
      "\n",
      "k = 7 Accuracy percentage in training subset: 91.17647058823529 %\n",
      "k = 7 Accuracy percentage in test subset: 87.55868544600939 %\n",
      "\n",
      "\n",
      "k = 8 Accuracy percentage in training subset: 90.94117647058823 %\n",
      "k = 8 Accuracy percentage in test subset: 86.85446009389672 %\n",
      "\n",
      "\n",
      "k = 9 Accuracy percentage in training subset: 90.76470588235294 %\n",
      "k = 9 Accuracy percentage in test subset: 87.55868544600939 %\n",
      "\n",
      "\n",
      "k = 10 Accuracy percentage in training subset: 90.47058823529412 %\n",
      "k = 10 Accuracy percentage in test subset: 87.32394366197182 %\n",
      "\n",
      "\n",
      "k = 11 Accuracy percentage in training subset: 90.52941176470588 %\n",
      "k = 11 Accuracy percentage in test subset: 87.55868544600939 %\n",
      "\n",
      "\n",
      "k = 12 Accuracy percentage in training subset: 89.88235294117646 %\n",
      "k = 12 Accuracy percentage in test subset: 86.85446009389672 %\n",
      "\n",
      "\n",
      "k = 13 Accuracy percentage in training subset: 89.64705882352942 %\n",
      "k = 13 Accuracy percentage in test subset: 86.61971830985915 %\n",
      "\n",
      "\n",
      "k = 14 Accuracy percentage in training subset: 89.3529411764706 %\n",
      "k = 14 Accuracy percentage in test subset: 87.08920187793427 %\n",
      "\n",
      "\n"
     ]
    }
   ],
   "source": [
    "for k in range(1, 15):\n",
    "    knn = KNeighborsClassifier(n_neighbors=k, metric = 'euclidean')\n",
    "    knn.fit(X_train, y_train)\n",
    "    print(\"k =\", k, \"Accuracy percentage in training subset:\", knn.score(X_train, y_train) * 100,\"%\")\n",
    "    print(\"k =\", k, \"Accuracy percentage in test subset:\", knn.score(X_test,y_test) * 100,\"%\")\n",
    "    print(\"\\n\")"
   ]
  }
 ],
 "metadata": {
  "kernelspec": {
   "display_name": "Python 3",
   "language": "python",
   "name": "python3"
  },
  "language_info": {
   "codemirror_mode": {
    "name": "ipython",
    "version": 3
   },
   "file_extension": ".py",
   "mimetype": "text/x-python",
   "name": "python",
   "nbconvert_exporter": "python",
   "pygments_lexer": "ipython3",
   "version": "3.9.1"
  }
 },
 "nbformat": 4,
 "nbformat_minor": 4
}
