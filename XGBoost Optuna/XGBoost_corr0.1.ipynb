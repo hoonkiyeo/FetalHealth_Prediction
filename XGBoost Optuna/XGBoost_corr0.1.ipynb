{
 "cells": [
  {
   "cell_type": "code",
   "execution_count": 3,
   "metadata": {},
   "outputs": [],
   "source": [
    "from sklearn import model_selection\n",
    "from sklearn.model_selection import train_test_split\n",
    "from sklearn import datasets\n",
    "from xgboost import XGBClassifier\n",
    "from sklearn.model_selection import StratifiedKFold\n",
    "import numpy as np\n",
    "import optuna\n",
    "import pandas as pd\n",
    "import matplotlib.pyplot as plt\n",
    "%matplotlib inline"
   ]
  },
  {
   "cell_type": "markdown",
   "metadata": {},
   "source": [
    "### XGBoost Optuna with feature selection of corrleation 0.1"
   ]
  },
  {
   "cell_type": "code",
   "execution_count": 23,
   "metadata": {},
   "outputs": [],
   "source": [
    "fetal = pd.read_csv(\"fetal_health.csv\")\n",
    "X = fetal[corr[abs(corr['fetal_health']) > 0.10]['fetal_health'].index]\n",
    "X = X.drop(['fetal_health'], axis=1).values\n",
    "y = fetal['fetal_health'].values.ravel().astype(int) - 1\n",
    "corr = fetal.corr()"
   ]
  },
  {
   "cell_type": "code",
   "execution_count": 24,
   "metadata": {},
   "outputs": [],
   "source": [
    "X_train, X_test, y_train, y_test = train_test_split(X, y,\n",
    "                                                    test_size = 0.3,\n",
    "                                                    random_state=123,\n",
    "                                                    stratify=y)\n",
    "\n",
    "X_train_sub, X_valid, y_train_sub, y_valid = \\\n",
    "    train_test_split(X_train, y_train, test_size=0.2, random_state=123, stratify=y_train)"
   ]
  },
  {
   "cell_type": "code",
   "execution_count": 25,
   "metadata": {},
   "outputs": [
    {
     "name": "stdout",
     "output_type": "stream",
     "text": [
      "Train/Valid/Test sizes: 1488 298 638\n"
     ]
    }
   ],
   "source": [
    "print('Train/Valid/Test sizes:', y_train.shape[0], y_valid.shape[0], y_test.shape[0])"
   ]
  },
  {
   "cell_type": "markdown",
   "metadata": {},
   "source": [
    "### Optuna"
   ]
  },
  {
   "cell_type": "code",
   "execution_count": 26,
   "metadata": {},
   "outputs": [],
   "source": [
    "from xgboost import XGBClassifier\n",
    "from sklearn.model_selection import StratifiedKFold\n",
    "import numpy as np\n",
    "import optuna\n",
    "\n",
    "\n",
    "def optimization_objective(trial, X_train, y_train, cv=5):\n",
    "\n",
    "    \n",
    "    params =  {\n",
    "            \"n_estimators\": trial.suggest_categorical(\"n_estimators\", [30, 50, 100, 300, 500, 1000]),\n",
    "            \"learning_rate\": trial.suggest_categorical(\"learning_rate\", [0.01, 0.03, 0.05, 0.1]),\n",
    "            \"lambda\": trial.suggest_loguniform(\"lambda\", 1e-8, 1.0),\n",
    "            \"alpha\": trial.suggest_loguniform(\"alpha\", 1e-8, 1.0),\n",
    "    }\n",
    "    \n",
    "\n",
    "    cv_iterator = StratifiedKFold(n_splits=cv, shuffle=True, random_state=123)\n",
    "\n",
    "    cv_scores = np.zeros(cv)\n",
    "    for idx, (train_sub_idx, valid_idx) in enumerate(cv_iterator.split(X_train, y_train)):\n",
    "        \n",
    "        X_train_sub, X_valid = X_train[train_sub_idx], X_train[valid_idx]\n",
    "        y_train_sub, y_valid = y_train[train_sub_idx], y_train[valid_idx]\n",
    "        \n",
    "\n",
    "        model = XGBClassifier(**params, random_state=123, use_label_encoder=False)\n",
    "        \n",
    "        model.fit(\n",
    "            X_train_sub,\n",
    "            y_train_sub,\n",
    "            verbose=False,\n",
    "            eval_set=[(X_valid, y_valid)],\n",
    "            eval_metric=\"auc\",\n",
    "            early_stopping_rounds=100,\n",
    "        )\n",
    "        \n",
    "        preds = model.score(X_valid, y_valid)\n",
    "        \n",
    "        cv_scores[idx] = preds\n",
    "\n",
    "    return np.mean(cv_scores)"
   ]
  },
  {
   "cell_type": "code",
   "execution_count": 27,
   "metadata": {},
   "outputs": [
    {
     "name": "stderr",
     "output_type": "stream",
     "text": [
      "\u001b[32m[I 2021-11-22 17:08:02,124]\u001b[0m A new study created in memory with name: XGBoost Classifier\u001b[0m\n",
      "\u001b[32m[I 2021-11-22 17:08:14,312]\u001b[0m Trial 0 finished with value: 0.9448963912051159 and parameters: {'n_estimators': 500, 'learning_rate': 0.03, 'lambda': 0.021464989218407376, 'alpha': 0.020392179485930688}. Best is trial 0 with value: 0.9448963912051159.\u001b[0m\n",
      "\u001b[32m[I 2021-11-22 17:08:15,985]\u001b[0m Trial 1 finished with value: 0.9422095677129235 and parameters: {'n_estimators': 30, 'learning_rate': 0.1, 'lambda': 0.011349463756739153, 'alpha': 9.788671630686054e-08}. Best is trial 0 with value: 0.9448963912051159.\u001b[0m\n",
      "\u001b[32m[I 2021-11-22 17:08:20,393]\u001b[0m Trial 2 finished with value: 0.9422163469143335 and parameters: {'n_estimators': 100, 'learning_rate': 0.05, 'lambda': 2.2498336351372585e-08, 'alpha': 0.0046144170104013785}. Best is trial 0 with value: 0.9448963912051159.\u001b[0m\n",
      "\u001b[32m[I 2021-11-22 17:08:29,516]\u001b[0m Trial 3 finished with value: 0.946916593225318 and parameters: {'n_estimators': 500, 'learning_rate': 0.05, 'lambda': 0.048475533228118345, 'alpha': 6.714055775278799e-08}. Best is trial 3 with value: 0.946916593225318.\u001b[0m\n",
      "\u001b[32m[I 2021-11-22 17:08:34,041]\u001b[0m Trial 4 finished with value: 0.9415429462409328 and parameters: {'n_estimators': 100, 'learning_rate': 0.05, 'lambda': 2.1153318968595564e-05, 'alpha': 1.4560515628952316e-07}. Best is trial 3 with value: 0.946916593225318.\u001b[0m\n",
      "\u001b[32m[I 2021-11-22 17:08:46,472]\u001b[0m Trial 5 finished with value: 0.9415406865071295 and parameters: {'n_estimators': 500, 'learning_rate': 0.03, 'lambda': 2.8768193824998386e-05, 'alpha': 1.056018442174074e-08}. Best is trial 3 with value: 0.946916593225318.\u001b[0m\n",
      "\u001b[32m[I 2021-11-22 17:08:48,530]\u001b[0m Trial 6 finished with value: 0.9254084468849568 and parameters: {'n_estimators': 30, 'learning_rate': 0.03, 'lambda': 0.0004969309483838091, 'alpha': 0.0005493519472116103}. Best is trial 3 with value: 0.946916593225318.\u001b[0m\n",
      "\u001b[32m[I 2021-11-22 17:08:51,839]\u001b[0m Trial 7 finished with value: 0.9415406865071294 and parameters: {'n_estimators': 50, 'learning_rate': 0.05, 'lambda': 0.00011924241216567589, 'alpha': 1.3822888570803314e-08}. Best is trial 3 with value: 0.946916593225318.\u001b[0m\n",
      "\u001b[32m[I 2021-11-22 17:08:53,612]\u001b[0m Trial 8 finished with value: 0.9301109529297449 and parameters: {'n_estimators': 30, 'learning_rate': 0.05, 'lambda': 0.0011978426554904577, 'alpha': 0.010766283307975834}. Best is trial 3 with value: 0.946916593225318.\u001b[0m\n",
      "\u001b[32m[I 2021-11-22 17:08:55,282]\u001b[0m Trial 9 finished with value: 0.9294420717239509 and parameters: {'n_estimators': 30, 'learning_rate': 0.05, 'lambda': 0.17034650744499988, 'alpha': 0.08363149648895232}. Best is trial 3 with value: 0.946916593225318.\u001b[0m\n",
      "\u001b[32m[I 2021-11-22 17:09:23,080]\u001b[0m Trial 10 finished with value: 0.9402006643617382 and parameters: {'n_estimators': 1000, 'learning_rate': 0.01, 'lambda': 0.38187453660012627, 'alpha': 7.136318949007193e-06}. Best is trial 3 with value: 0.946916593225318.\u001b[0m\n",
      "\u001b[32m[I 2021-11-22 17:09:36,212]\u001b[0m Trial 11 finished with value: 0.9442252502655186 and parameters: {'n_estimators': 500, 'learning_rate': 0.03, 'lambda': 0.028336013523373615, 'alpha': 1.2646003080949142e-05}. Best is trial 3 with value: 0.946916593225318.\u001b[0m\n",
      "\u001b[32m[I 2021-11-22 17:09:51,763]\u001b[0m Trial 12 finished with value: 0.9428852281201274 and parameters: {'n_estimators': 300, 'learning_rate': 0.01, 'lambda': 0.01348024877194088, 'alpha': 4.9509836611556e-05}. Best is trial 3 with value: 0.946916593225318.\u001b[0m\n",
      "\u001b[32m[I 2021-11-22 17:10:00,096]\u001b[0m Trial 13 finished with value: 0.9415429462409328 and parameters: {'n_estimators': 500, 'learning_rate': 0.1, 'lambda': 0.9578376723662416, 'alpha': 0.9969911609375842}. Best is trial 3 with value: 0.946916593225318.\u001b[0m\n",
      "\u001b[32m[I 2021-11-22 17:10:11,751]\u001b[0m Trial 14 finished with value: 0.9408695455675321 and parameters: {'n_estimators': 500, 'learning_rate': 0.03, 'lambda': 1.2347060422426028e-06, 'alpha': 2.0955804946958266e-06}. Best is trial 3 with value: 0.946916593225318.\u001b[0m\n",
      "\u001b[32m[I 2021-11-22 17:10:23,277]\u001b[0m Trial 15 finished with value: 0.9435563690597247 and parameters: {'n_estimators': 500, 'learning_rate': 0.03, 'lambda': 0.0020242312874608607, 'alpha': 0.0006196362824531018}. Best is trial 3 with value: 0.946916593225318.\u001b[0m\n",
      "\u001b[32m[I 2021-11-22 17:10:47,031]\u001b[0m Trial 16 finished with value: 0.9415429462409328 and parameters: {'n_estimators': 1000, 'learning_rate': 0.01, 'lambda': 0.040771135532065725, 'alpha': 0.3121580506570065}. Best is trial 3 with value: 0.946916593225318.\u001b[0m\n",
      "\u001b[32m[I 2021-11-22 17:10:49,420]\u001b[0m Trial 17 finished with value: 0.9415429462409328 and parameters: {'n_estimators': 50, 'learning_rate': 0.1, 'lambda': 1.2255666338364289e-06, 'alpha': 0.01819211882810412}. Best is trial 3 with value: 0.946916593225318.\u001b[0m\n",
      "\u001b[32m[I 2021-11-22 17:11:00,943]\u001b[0m Trial 18 finished with value: 0.9408718053013356 and parameters: {'n_estimators': 300, 'learning_rate': 0.03, 'lambda': 0.004290200157376894, 'alpha': 8.88732313860162e-07}. Best is trial 3 with value: 0.946916593225318.\u001b[0m\n",
      "\u001b[32m[I 2021-11-22 17:11:10,104]\u001b[0m Trial 19 finished with value: 0.94557205161232 and parameters: {'n_estimators': 500, 'learning_rate': 0.05, 'lambda': 0.052894647950213716, 'alpha': 0.00099322714334325}. Best is trial 3 with value: 0.946916593225318.\u001b[0m\n",
      "\u001b[32m[I 2021-11-22 17:11:19,290]\u001b[0m Trial 20 finished with value: 0.9449009106727229 and parameters: {'n_estimators': 500, 'learning_rate': 0.05, 'lambda': 0.12692896288606312, 'alpha': 0.0005332549296459814}. Best is trial 3 with value: 0.946916593225318.\u001b[0m\n",
      "\u001b[32m[I 2021-11-22 17:11:29,365]\u001b[0m Trial 21 finished with value: 0.9462409328181141 and parameters: {'n_estimators': 500, 'learning_rate': 0.05, 'lambda': 0.06419808692348146, 'alpha': 0.0005851752535189354}. Best is trial 3 with value: 0.946916593225318.\u001b[0m\n",
      "\u001b[32m[I 2021-11-22 17:11:41,140]\u001b[0m Trial 22 finished with value: 0.946909814023908 and parameters: {'n_estimators': 500, 'learning_rate': 0.05, 'lambda': 0.08893140074519379, 'alpha': 8.910872952486345e-05}. Best is trial 3 with value: 0.946916593225318.\u001b[0m\n",
      "\u001b[32m[I 2021-11-22 17:11:49,773]\u001b[0m Trial 23 finished with value: 0.94221408718053 and parameters: {'n_estimators': 500, 'learning_rate': 0.05, 'lambda': 0.8155620439430947, 'alpha': 4.8160212872633684e-05}. Best is trial 3 with value: 0.946916593225318.\u001b[0m\n",
      "\u001b[32m[I 2021-11-22 17:11:59,684]\u001b[0m Trial 24 finished with value: 0.9442252502655186 and parameters: {'n_estimators': 500, 'learning_rate': 0.05, 'lambda': 0.0003603839400055688, 'alpha': 0.000137045098832331}. Best is trial 3 with value: 0.946916593225318.\u001b[0m\n",
      "\u001b[32m[I 2021-11-22 17:12:08,393]\u001b[0m Trial 25 finished with value: 0.9448986509389193 and parameters: {'n_estimators': 500, 'learning_rate': 0.05, 'lambda': 0.1537763406517835, 'alpha': 8.801732982733706e-08}. Best is trial 3 with value: 0.946916593225318.\u001b[0m\n",
      "\u001b[32m[I 2021-11-22 17:12:16,111]\u001b[0m Trial 26 finished with value: 0.944896391205116 and parameters: {'n_estimators': 300, 'learning_rate': 0.05, 'lambda': 0.005348980618125649, 'alpha': 5.660521449358678e-07}. Best is trial 3 with value: 0.946916593225318.\u001b[0m\n",
      "\u001b[32m[I 2021-11-22 17:12:19,298]\u001b[0m Trial 27 finished with value: 0.9435608885273314 and parameters: {'n_estimators': 100, 'learning_rate': 0.05, 'lambda': 0.1474264563144332, 'alpha': 0.0035939725290774624}. Best is trial 3 with value: 0.946916593225318.\u001b[0m\n",
      "\u001b[32m[I 2021-11-22 17:12:21,285]\u001b[0m Trial 28 finished with value: 0.9428852281201274 and parameters: {'n_estimators': 50, 'learning_rate': 0.05, 'lambda': 1.0764469151075587e-08, 'alpha': 8.640630387543791e-06}. Best is trial 3 with value: 0.946916593225318.\u001b[0m\n",
      "\u001b[32m[I 2021-11-22 17:12:27,978]\u001b[0m Trial 29 finished with value: 0.9442252502655186 and parameters: {'n_estimators': 500, 'learning_rate': 0.05, 'lambda': 0.042954101104608296, 'alpha': 0.0001673195748431234}. Best is trial 3 with value: 0.946916593225318.\u001b[0m\n",
      "\u001b[32m[I 2021-11-22 17:12:47,380]\u001b[0m Trial 30 finished with value: 0.94221408718053 and parameters: {'n_estimators': 1000, 'learning_rate': 0.01, 'lambda': 0.006098147854715024, 'alpha': 0.0022770149382627973}. Best is trial 3 with value: 0.946916593225318.\u001b[0m\n",
      "\u001b[32m[I 2021-11-22 17:12:54,871]\u001b[0m Trial 31 finished with value: 0.9435586287935281 and parameters: {'n_estimators': 500, 'learning_rate': 0.05, 'lambda': 0.052849079066737206, 'alpha': 0.08866730395413965}. Best is trial 3 with value: 0.946916593225318.\u001b[0m\n",
      "\u001b[32m[I 2021-11-22 17:13:03,050]\u001b[0m Trial 32 finished with value: 0.9428852281201274 and parameters: {'n_estimators': 500, 'learning_rate': 0.05, 'lambda': 0.020615011404590704, 'alpha': 0.001466559934069202}. Best is trial 3 with value: 0.946916593225318.\u001b[0m\n",
      "\u001b[32m[I 2021-11-22 17:13:08,842]\u001b[0m Trial 33 finished with value: 0.9469143334915147 and parameters: {'n_estimators': 500, 'learning_rate': 0.1, 'lambda': 0.2596066738148766, 'alpha': 2.2759605731636097e-05}. Best is trial 3 with value: 0.946916593225318.\u001b[0m\n",
      "\u001b[32m[I 2021-11-22 17:13:13,689]\u001b[0m Trial 34 finished with value: 0.9442297697331254 and parameters: {'n_estimators': 500, 'learning_rate': 0.1, 'lambda': 0.3264734540106495, 'alpha': 2.6332621576730944e-05}. Best is trial 3 with value: 0.946916593225318.\u001b[0m\n",
      "\u001b[32m[I 2021-11-22 17:13:16,897]\u001b[0m Trial 35 finished with value: 0.9428874878539307 and parameters: {'n_estimators': 100, 'learning_rate': 0.1, 'lambda': 0.5889457557922573, 'alpha': 2.291678131488154e-06}. Best is trial 3 with value: 0.946916593225318.\u001b[0m\n",
      "\u001b[32m[I 2021-11-22 17:13:22,284]\u001b[0m Trial 36 finished with value: 0.9442207307979121 and parameters: {'n_estimators': 500, 'learning_rate': 0.1, 'lambda': 0.01342835862450014, 'alpha': 0.0002452314412437672}. Best is trial 3 with value: 0.946916593225318.\u001b[0m\n",
      "\u001b[32m[I 2021-11-22 17:13:26,875]\u001b[0m Trial 37 finished with value: 0.94557205161232 and parameters: {'n_estimators': 500, 'learning_rate': 0.1, 'lambda': 2.6445725586066016e-06, 'alpha': 5.26586435783285e-08}. Best is trial 3 with value: 0.946916593225318.\u001b[0m\n",
      "\u001b[32m[I 2021-11-22 17:13:29,922]\u001b[0m Trial 38 finished with value: 0.94557205161232 and parameters: {'n_estimators': 100, 'learning_rate': 0.1, 'lambda': 9.191153041968612e-08, 'alpha': 2.9862237563043084e-07}. Best is trial 3 with value: 0.946916593225318.\u001b[0m\n",
      "\u001b[32m[I 2021-11-22 17:13:31,251]\u001b[0m Trial 39 finished with value: 0.9307843536031456 and parameters: {'n_estimators': 30, 'learning_rate': 0.05, 'lambda': 0.0008988496841283676, 'alpha': 2.5019274532860677e-08}. Best is trial 3 with value: 0.946916593225318.\u001b[0m\n",
      "\u001b[32m[I 2021-11-22 17:13:33,079]\u001b[0m Trial 40 finished with value: 0.9442320294669286 and parameters: {'n_estimators': 50, 'learning_rate': 0.1, 'lambda': 3.781477317473966e-05, 'alpha': 0.00880577229370297}. Best is trial 3 with value: 0.946916593225318.\u001b[0m\n",
      "\u001b[32m[I 2021-11-22 17:13:36,211]\u001b[0m Trial 41 finished with value: 0.94557205161232 and parameters: {'n_estimators': 100, 'learning_rate': 0.1, 'lambda': 1.3881230258976844e-07, 'alpha': 2.598101229589604e-07}. Best is trial 3 with value: 0.946916593225318.\u001b[0m\n",
      "\u001b[32m[I 2021-11-22 17:13:39,370]\u001b[0m Trial 42 finished with value: 0.94557205161232 and parameters: {'n_estimators': 100, 'learning_rate': 0.1, 'lambda': 9.910084515219137e-08, 'alpha': 2.3452801101525888e-07}. Best is trial 3 with value: 0.946916593225318.\u001b[0m\n",
      "\u001b[32m[I 2021-11-22 17:13:42,555]\u001b[0m Trial 43 finished with value: 0.9435541093259214 and parameters: {'n_estimators': 100, 'learning_rate': 0.1, 'lambda': 6.494468623686956e-06, 'alpha': 1.2502874238242536e-06}. Best is trial 3 with value: 0.946916593225318.\u001b[0m\n",
      "\u001b[32m[I 2021-11-22 17:13:45,751]\u001b[0m Trial 44 finished with value: 0.9462386730843105 and parameters: {'n_estimators': 100, 'learning_rate': 0.1, 'lambda': 0.00018240271764742683, 'alpha': 3.852936015300568e-06}. Best is trial 3 with value: 0.946916593225318.\u001b[0m\n",
      "\u001b[32m[I 2021-11-22 17:13:47,159]\u001b[0m Trial 45 finished with value: 0.9307843536031456 and parameters: {'n_estimators': 30, 'learning_rate': 0.05, 'lambda': 0.00030951133891467383, 'alpha': 4.516647005797435e-06}. Best is trial 3 with value: 0.946916593225318.\u001b[0m\n",
      "\u001b[32m[I 2021-11-22 17:14:00,067]\u001b[0m Trial 46 finished with value: 0.9415452059747362 and parameters: {'n_estimators': 500, 'learning_rate': 0.01, 'lambda': 0.2902223873729631, 'alpha': 2.3640664469885785e-05}. Best is trial 3 with value: 0.946916593225318.\u001b[0m\n",
      "\u001b[32m[I 2021-11-22 17:14:05,419]\u001b[0m Trial 47 finished with value: 0.9428807086525207 and parameters: {'n_estimators': 1000, 'learning_rate': 0.1, 'lambda': 0.074356996249386, 'alpha': 6.512646361691829e-05}. Best is trial 3 with value: 0.946916593225318.\u001b[0m\n",
      "\u001b[32m[I 2021-11-22 17:14:13,918]\u001b[0m Trial 48 finished with value: 0.942882968386324 and parameters: {'n_estimators': 300, 'learning_rate': 0.05, 'lambda': 0.009461057165309808, 'alpha': 1.7480136271916195e-05}. Best is trial 3 with value: 0.946916593225318.\u001b[0m\n",
      "\u001b[32m[I 2021-11-22 17:14:22,485]\u001b[0m Trial 49 finished with value: 0.9408695455675321 and parameters: {'n_estimators': 500, 'learning_rate': 0.03, 'lambda': 0.002247166866469549, 'alpha': 0.0002849495767774518}. Best is trial 3 with value: 0.946916593225318.\u001b[0m\n"
     ]
    },
    {
     "name": "stdout",
     "output_type": "stream",
     "text": [
      "Best CV accuracy: 0.94692\n",
      "Best params:\n",
      "\tn_estimators: 500\n",
      "\tlearning_rate: 0.05\n",
      "\tlambda: 0.048475533228118345\n",
      "\talpha: 6.714055775278799e-08\n"
     ]
    }
   ],
   "source": [
    "study = optuna.create_study(direction=\"maximize\", study_name=\"XGBoost Classifier\")\n",
    "\n",
    "def func(trial):\n",
    "    return optimization_objective(trial, X_train, y_train)\n",
    "\n",
    "study.optimize(func, n_trials=50);\n",
    "\n",
    "\n",
    "\n",
    "\n",
    "\n",
    "print(f\"Best CV accuracy: {study.best_value:.5f}\")\n",
    "print(\"Best params:\")\n",
    "for key, value in study.best_params.items():\n",
    "    print(f\"\\t{key}: {value}\")"
   ]
  },
  {
   "cell_type": "code",
   "execution_count": 28,
   "metadata": {},
   "outputs": [
    {
     "name": "stdout",
     "output_type": "stream",
     "text": [
      "Training Accuracy: 99.328%\n",
      "Test Accuracy: 93.887%\n"
     ]
    }
   ],
   "source": [
    "model = XGBClassifier(**study.best_params, random_state=123, use_label_encoder=False)\n",
    "model.fit(\n",
    "    X_train,\n",
    "    y_train,\n",
    "    verbose=False,\n",
    "    eval_set=[(X_test, y_test)],\n",
    "    eval_metric=\"auc\",\n",
    "    early_stopping_rounds=100,\n",
    ")\n",
    "\n",
    "\n",
    "\n",
    "print(f\"Training Accuracy: {model.score(X_train, y_train)*100:0.3f}%\")\n",
    "print(f\"Test Accuracy: {model.score(X_test, y_test)*100:0.3f}%\")"
   ]
  }
 ],
 "metadata": {
  "kernelspec": {
   "display_name": "Python 3",
   "language": "python",
   "name": "python3"
  },
  "language_info": {
   "codemirror_mode": {
    "name": "ipython",
    "version": 3
   },
   "file_extension": ".py",
   "mimetype": "text/x-python",
   "name": "python",
   "nbconvert_exporter": "python",
   "pygments_lexer": "ipython3",
   "version": "3.9.1"
  }
 },
 "nbformat": 4,
 "nbformat_minor": 4
}
