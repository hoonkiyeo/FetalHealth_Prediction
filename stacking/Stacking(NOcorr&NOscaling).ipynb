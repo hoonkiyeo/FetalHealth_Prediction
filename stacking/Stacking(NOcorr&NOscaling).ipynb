{
 "cells": [
  {
   "cell_type": "code",
   "execution_count": 1,
   "id": "ad6f5447",
   "metadata": {},
   "outputs": [],
   "source": [
    "import pandas as pd\n",
    "import numpy as np\n",
    "from sklearn.model_selection import train_test_split\n",
    "from sklearn import preprocessing\n",
    "from sklearn.metrics import precision_score, recall_score, confusion_matrix, classification_report, accuracy_score, f1_score\n",
    "from sklearn.model_selection import cross_val_score\n",
    "from sklearn.preprocessing import StandardScaler\n",
    "\n",
    "from sklearn.ensemble import StackingClassifier\n",
    "from sklearn.ensemble import RandomForestClassifier\n",
    "from xgboost import XGBClassifier\n",
    "from sklearn.linear_model import LogisticRegression\n",
    "from sklearn.neighbors import KNeighborsClassifier\n",
    "from sklearn.tree import DecisionTreeClassifier\n",
    "from sklearn.ensemble import AdaBoostClassifier\n",
    "from sklearn.ensemble import HistGradientBoostingClassifier"
   ]
  },
  {
   "cell_type": "code",
   "execution_count": 2,
   "id": "8ae49d27",
   "metadata": {},
   "outputs": [],
   "source": [
    "fetal = pd.read_csv(\"../fetal_health.csv\")\n",
    "X = fetal.drop([\"fetal_health\"],axis=1).values\n",
    "y = fetal[\"fetal_health\"].values.ravel().astype(int) - 1"
   ]
  },
  {
   "cell_type": "code",
   "execution_count": 3,
   "id": "9344c0a3",
   "metadata": {},
   "outputs": [],
   "source": [
    "fetal[fetal.duplicated()]\n",
    "fetal_dup = fetal.drop_duplicates(subset = None , keep = 'first', inplace = False)\n",
    "corr = fetal.corr()"
   ]
  },
  {
   "cell_type": "code",
   "execution_count": 4,
   "id": "bf4b33a4",
   "metadata": {},
   "outputs": [],
   "source": [
    "#X_remove = fetal[corr[abs(corr['fetal_health']) > 0.10]['fetal_health'].index]\n",
    "#X_cor = X_remove.drop(['fetal_health'], axis=1)\n",
    "#y_cor = fetal['fetal_health']\n",
    "\n",
    "#s_scaler = preprocessing.StandardScaler()\n",
    "#X_trans= s_scaler.fit_transform(X)\n",
    "X_train, X_test, y_train,y_test = train_test_split(X,y,test_size=0.3,random_state=123, stratify = y)"
   ]
  },
  {
   "cell_type": "code",
   "execution_count": 5,
   "id": "68264ce5",
   "metadata": {},
   "outputs": [],
   "source": [
    "def get_results_simple(model, prediction): # 각 지표들 리턴해주는 함수\n",
    "    result_dict = dict()\n",
    "    \n",
    "    test_accuracy = round(accuracy_score(y_test, prediction),4)\n",
    "    recall = round(recall_score(y_test, prediction, average = \"weighted\", labels = np.unique(prediction)), 3)\n",
    "    precision = round(precision_score(y_test, prediction, average = \"weighted\", labels = np.unique(prediction)), 3)\n",
    "    f1 = round(f1_score(y_test, prediction, average = \"micro\", labels = np.unique(prediction)), 3)\n",
    "\n",
    "    result_dict[\"test_accuracy\"] = test_accuracy\n",
    "    result_dict[\"recall\"] = recall\n",
    "    result_dict[\"f1_score\"] = f1\n",
    "    result_dict[\"precision\"] = precision\n",
    "    \n",
    "    return result_dict"
   ]
  },
  {
   "cell_type": "markdown",
   "id": "a7fe479f",
   "metadata": {},
   "source": [
    "## Stacking (2 models)"
   ]
  },
  {
   "cell_type": "code",
   "execution_count": 6,
   "id": "829cea9a",
   "metadata": {},
   "outputs": [
    {
     "name": "stdout",
     "output_type": "stream",
     "text": [
      "Training Accuracy: 1.000\n",
      "Test Accuracy: 0.958\n"
     ]
    }
   ],
   "source": [
    "boost = XGBClassifier(random_state=123, verbosity=0, use_label_encoder=False)\n",
    "boost.fit(X_train, y_train)\n",
    "print(\"Training Accuracy: %0.3f\" % boost.score(X_train, y_train))\n",
    "print(\"Test Accuracy: %0.3f\" % boost.score(X_test, y_test))"
   ]
  },
  {
   "cell_type": "code",
   "execution_count": 7,
   "id": "b6c5cf76",
   "metadata": {},
   "outputs": [
    {
     "data": {
      "text/plain": [
       "{'test_accuracy': 0.9577,\n",
       " 'recall': 0.958,\n",
       " 'f1_score': 0.958,\n",
       " 'precision': 0.957,\n",
       " 'train_accuracy': 1.0}"
      ]
     },
     "execution_count": 7,
     "metadata": {},
     "output_type": "execute_result"
    }
   ],
   "source": [
    "prediction = boost.predict(X_test)\n",
    "gb_result = get_results_simple(boost, prediction)\n",
    "gb_result['train_accuracy'] = round(boost.score(X_train, y_train),3)\n",
    "gb_result "
   ]
  },
  {
   "cell_type": "code",
   "execution_count": 7,
   "id": "e665ed69",
   "metadata": {},
   "outputs": [
    {
     "data": {
      "text/plain": [
       "StackingClassifier(cv=10,\n",
       "                   estimators=[('clf1',\n",
       "                                RandomForestClassifier(random_state=123)),\n",
       "                               ('clf2',\n",
       "                                XGBClassifier(base_score=0.5, booster='gbtree',\n",
       "                                              colsample_bylevel=1,\n",
       "                                              colsample_bynode=1,\n",
       "                                              colsample_bytree=1,\n",
       "                                              enable_categorical=False, gamma=0,\n",
       "                                              gpu_id=-1, importance_type=None,\n",
       "                                              interaction_constraints='',\n",
       "                                              learning_rate=0.300000012,\n",
       "                                              max_delta_step=0, max_depth=6,\n",
       "                                              min_child_weight=1, missing=nan,\n",
       "                                              monotone_constraints='()',\n",
       "                                              n_estimators=100, n_jobs=12,\n",
       "                                              num_parallel_tree=1,\n",
       "                                              objective='multi:softprob',\n",
       "                                              predictor='auto',\n",
       "                                              random_state=123, reg_alpha=0,\n",
       "                                              reg_lambda=1,\n",
       "                                              scale_pos_weight=None,\n",
       "                                              subsample=1, tree_method='exact',\n",
       "                                              use_label_encoder=False,\n",
       "                                              validate_parameters=1,\n",
       "                                              verbosity=0))],\n",
       "                   final_estimator=LogisticRegression(random_state=123))"
      ]
     },
     "execution_count": 7,
     "metadata": {},
     "output_type": "execute_result"
    }
   ],
   "source": [
    "clf1 = RandomForestClassifier(random_state=123)\n",
    "clf2 = boost\n",
    "\n",
    "lr = LogisticRegression(random_state=123)\n",
    "estimators = [('clf1', clf1),\n",
    "              ('clf2', clf2)]\n",
    "\n",
    "sclf_2 = StackingClassifier(estimators=estimators, final_estimator=lr, cv=10)\n",
    "\n",
    "sclf_2.fit(X_train, y_train)"
   ]
  },
  {
   "cell_type": "code",
   "execution_count": 8,
   "id": "09bb41c2",
   "metadata": {},
   "outputs": [
    {
     "name": "stdout",
     "output_type": "stream",
     "text": [
      "Training Accuracy: 1.000\n",
      "Test Accuracy: 0.956\n"
     ]
    }
   ],
   "source": [
    "print(f\"Training Accuracy: {sclf_2.score(X_train, y_train):0.3f}\")\n",
    "print(f\"Test Accuracy: {sclf_2.score(X_test, y_test):0.3f}\")"
   ]
  },
  {
   "cell_type": "code",
   "execution_count": 9,
   "id": "4457962b",
   "metadata": {},
   "outputs": [
    {
     "data": {
      "text/plain": [
       "{'test_accuracy': 0.9561,\n",
       " 'recall': 0.956,\n",
       " 'f1_score': 0.956,\n",
       " 'precision': 0.955,\n",
       " 'train_accuracy': 1.0}"
      ]
     },
     "execution_count": 9,
     "metadata": {},
     "output_type": "execute_result"
    }
   ],
   "source": [
    "prediction = sclf_2.predict(X_test)\n",
    "stacking_2_result = get_results_simple(sclf_2, prediction)\n",
    "stacking_2_result['train_accuracy'] = round(sclf_2.score(X_train, y_train),3)\n",
    "stacking_2_result "
   ]
  },
  {
   "cell_type": "markdown",
   "id": "b24d6467",
   "metadata": {},
   "source": [
    "## Stacking (5 models)"
   ]
  },
  {
   "cell_type": "code",
   "execution_count": 10,
   "id": "1cff48a5",
   "metadata": {},
   "outputs": [
    {
     "data": {
      "text/plain": [
       "StackingClassifier(cv=10,\n",
       "                   estimators=[('clf1', KNeighborsClassifier()),\n",
       "                               ('clf2',\n",
       "                                RandomForestClassifier(random_state=123)),\n",
       "                               ('clf3', AdaBoostClassifier(random_state=123)),\n",
       "                               ('clf4',\n",
       "                                DecisionTreeClassifier(random_state=123)),\n",
       "                               ('clf5',\n",
       "                                HistGradientBoostingClassifier(random_state=123))],\n",
       "                   final_estimator=LogisticRegression(random_state=123))"
      ]
     },
     "execution_count": 10,
     "metadata": {},
     "output_type": "execute_result"
    }
   ],
   "source": [
    "clf1 = KNeighborsClassifier(n_neighbors=5)\n",
    "clf2 = RandomForestClassifier(random_state=123)\n",
    "clf3 = AdaBoostClassifier(random_state=123)\n",
    "clf4 = DecisionTreeClassifier(random_state=123,max_depth=None)\n",
    "clf5 = HistGradientBoostingClassifier(random_state=123)\n",
    "\n",
    "lr = LogisticRegression(random_state=123)\n",
    "\n",
    "estimators = [('clf1', clf1),\n",
    "              ('clf2', clf2),\n",
    "              ('clf3', clf3),\n",
    "              ('clf4', clf4),\n",
    "              ('clf5', clf5)]\n",
    "\n",
    "sclf_5 = StackingClassifier(estimators=estimators, final_estimator=lr, cv = 10)\n",
    "\n",
    "sclf_5.fit(X_train, y_train)"
   ]
  },
  {
   "cell_type": "code",
   "execution_count": 11,
   "id": "7f4454a0",
   "metadata": {},
   "outputs": [
    {
     "name": "stdout",
     "output_type": "stream",
     "text": [
      "Training Accuracy: 1.000\n",
      "Test Accuracy: 0.956\n"
     ]
    }
   ],
   "source": [
    "print(\"Training Accuracy: %0.3f\" % sclf_5.score(X_train, y_train))\n",
    "print(\"Test Accuracy: %0.3f\" % sclf_5.score(X_test, y_test))"
   ]
  },
  {
   "cell_type": "code",
   "execution_count": 12,
   "id": "2487b825",
   "metadata": {},
   "outputs": [
    {
     "data": {
      "text/plain": [
       "{'test_accuracy': 0.9561,\n",
       " 'recall': 0.956,\n",
       " 'f1_score': 0.956,\n",
       " 'precision': 0.955,\n",
       " 'train_accuracy': 1.0}"
      ]
     },
     "execution_count": 12,
     "metadata": {},
     "output_type": "execute_result"
    }
   ],
   "source": [
    "prediction = sclf_5.predict(X_test)\n",
    "stacking_5_result = get_results_simple(sclf_5, prediction)\n",
    "stacking_5_result['train_accuracy'] = round(sclf_5.score(X_train, y_train),3)\n",
    "stacking_5_result "
   ]
  },
  {
   "cell_type": "code",
   "execution_count": null,
   "id": "43d8c337",
   "metadata": {},
   "outputs": [],
   "source": []
  }
 ],
 "metadata": {
  "kernelspec": {
   "display_name": "Python 3",
   "language": "python",
   "name": "python3"
  },
  "language_info": {
   "codemirror_mode": {
    "name": "ipython",
    "version": 3
   },
   "file_extension": ".py",
   "mimetype": "text/x-python",
   "name": "python",
   "nbconvert_exporter": "python",
   "pygments_lexer": "ipython3",
   "version": "3.8.8"
  }
 },
 "nbformat": 4,
 "nbformat_minor": 5
}
